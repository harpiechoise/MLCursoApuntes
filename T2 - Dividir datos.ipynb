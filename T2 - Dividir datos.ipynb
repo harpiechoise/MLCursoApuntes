{
 "cells": [
  {
   "cell_type": "code",
   "execution_count": 4,
   "metadata": {},
   "outputs": [
    {
     "data": {
      "text/plain": [
       "3333"
      ]
     },
     "execution_count": 4,
     "metadata": {},
     "output_type": "execute_result"
    }
   ],
   "source": [
    "import pandas as pd\n",
    "import matplotlib.pyplot as plt\n",
    "from sklearn.model_selection import train_test_split\n",
    "import numpy as np\n",
    "# Cargamos el dataset customer churn model\n",
    "df = pd.read_csv(\"../datasets/customer-churn-model/Customer Churn Model.txt\")\n",
    "len(df)"
   ]
  },
  {
   "cell_type": "code",
   "execution_count": 6,
   "metadata": {},
   "outputs": [
    {
     "data": {
      "text/plain": [
       "(array([ 1.,  0.,  1.,  0.,  0.,  1.,  0.,  0.,  0.,  1.,  1.,  1.,  2.,\n",
       "         0.,  0.,  1.,  1.,  1.,  0.,  1.,  1.,  3.,  1.,  3.,  0.,  4.,\n",
       "         5.,  3.,  5.,  4.,  3.,  3.,  7.,  3.,  4.,  6., 11., 11.,  8.,\n",
       "        10., 12.,  6.,  4.,  5., 17., 11.,  7., 16., 15., 10.,  9., 14.,\n",
       "         8., 16., 15., 21., 12., 11., 17., 20., 19., 25., 21., 25., 17.,\n",
       "        28., 36., 24., 33., 25., 26., 33., 24., 28., 41., 42., 41., 31.,\n",
       "        36., 35., 29., 45., 45., 46., 28., 48., 44., 45., 29., 48., 35.,\n",
       "        39., 55., 55., 54., 37., 52., 34., 43., 51., 41., 46., 43., 30.,\n",
       "        35., 45., 41., 42., 53., 45., 33., 42., 41., 39., 35., 37., 38.,\n",
       "        36., 31., 32., 27., 42., 35., 21., 40., 26., 21., 20., 31., 27.,\n",
       "        22., 24., 21., 22., 17., 16., 17., 17., 14., 22., 20., 26., 10.,\n",
       "        16.,  9.,  5.,  6., 11., 10., 11., 11., 10.,  6., 10.,  6.,  0.,\n",
       "         8.,  4.,  5.,  8.,  3.,  3.,  7.,  5.,  3.,  7.,  3.,  4.,  3.,\n",
       "         0.,  1.,  4.,  1.,  0.,  2.,  0.,  5.,  4.,  1.,  1.,  1.,  0.,\n",
       "         2.,  1.,  0.,  0.,  1.,  1.,  0.,  2.,  1.,  1.,  1.,  0.,  0.,\n",
       "         0.,  0.,  0.,  0.,  1.]),\n",
       " array([-3.24114916, -3.20756269, -3.17397621, -3.14038974, -3.10680326,\n",
       "        -3.07321679, -3.03963031, -3.00604384, -2.97245736, -2.93887089,\n",
       "        -2.90528441, -2.87169794, -2.83811146, -2.80452499, -2.77093851,\n",
       "        -2.73735204, -2.70376556, -2.67017909, -2.63659261, -2.60300614,\n",
       "        -2.56941966, -2.53583319, -2.50224671, -2.46866024, -2.43507376,\n",
       "        -2.40148729, -2.36790081, -2.33431434, -2.30072786, -2.26714139,\n",
       "        -2.23355491, -2.19996844, -2.16638196, -2.13279549, -2.09920901,\n",
       "        -2.06562254, -2.03203606, -1.99844959, -1.96486311, -1.93127664,\n",
       "        -1.89769016, -1.86410368, -1.83051721, -1.79693073, -1.76334426,\n",
       "        -1.72975778, -1.69617131, -1.66258483, -1.62899836, -1.59541188,\n",
       "        -1.56182541, -1.52823893, -1.49465246, -1.46106598, -1.42747951,\n",
       "        -1.39389303, -1.36030656, -1.32672008, -1.29313361, -1.25954713,\n",
       "        -1.22596066, -1.19237418, -1.15878771, -1.12520123, -1.09161476,\n",
       "        -1.05802828, -1.02444181, -0.99085533, -0.95726886, -0.92368238,\n",
       "        -0.89009591, -0.85650943, -0.82292296, -0.78933648, -0.75575001,\n",
       "        -0.72216353, -0.68857706, -0.65499058, -0.62140411, -0.58781763,\n",
       "        -0.55423116, -0.52064468, -0.48705821, -0.45347173, -0.41988526,\n",
       "        -0.38629878, -0.35271231, -0.31912583, -0.28553936, -0.25195288,\n",
       "        -0.21836641, -0.18477993, -0.15119345, -0.11760698, -0.0840205 ,\n",
       "        -0.05043403, -0.01684755,  0.01673892,  0.0503254 ,  0.08391187,\n",
       "         0.11749835,  0.15108482,  0.1846713 ,  0.21825777,  0.25184425,\n",
       "         0.28543072,  0.3190172 ,  0.35260367,  0.38619015,  0.41977662,\n",
       "         0.4533631 ,  0.48694957,  0.52053605,  0.55412252,  0.587709  ,\n",
       "         0.62129547,  0.65488195,  0.68846842,  0.7220549 ,  0.75564137,\n",
       "         0.78922785,  0.82281432,  0.8564008 ,  0.88998727,  0.92357375,\n",
       "         0.95716022,  0.9907467 ,  1.02433317,  1.05791965,  1.09150612,\n",
       "         1.1250926 ,  1.15867907,  1.19226555,  1.22585202,  1.2594385 ,\n",
       "         1.29302497,  1.32661145,  1.36019792,  1.3937844 ,  1.42737087,\n",
       "         1.46095735,  1.49454382,  1.5281303 ,  1.56171677,  1.59530325,\n",
       "         1.62888973,  1.6624762 ,  1.69606268,  1.72964915,  1.76323563,\n",
       "         1.7968221 ,  1.83040858,  1.86399505,  1.89758153,  1.931168  ,\n",
       "         1.96475448,  1.99834095,  2.03192743,  2.0655139 ,  2.09910038,\n",
       "         2.13268685,  2.16627333,  2.1998598 ,  2.23344628,  2.26703275,\n",
       "         2.30061923,  2.3342057 ,  2.36779218,  2.40137865,  2.43496513,\n",
       "         2.4685516 ,  2.50213808,  2.53572455,  2.56931103,  2.6028975 ,\n",
       "         2.63648398,  2.67007045,  2.70365693,  2.7372434 ,  2.77082988,\n",
       "         2.80441635,  2.83800283,  2.8715893 ,  2.90517578,  2.93876225,\n",
       "         2.97234873,  3.0059352 ,  3.03952168,  3.07310815,  3.10669463,\n",
       "         3.1402811 ,  3.17386758,  3.20745405,  3.24104053,  3.274627  ,\n",
       "         3.30821348,  3.34179995,  3.37538643,  3.40897291,  3.44255938,\n",
       "         3.47614586]),\n",
       " <BarContainer object of 200 artists>)"
      ]
     },
     "execution_count": 6,
     "metadata": {},
     "output_type": "execute_result"
    },
    {
     "data": {
      "image/png": "[encoded data removed]",
      "text/plain": [
       "<Figure size 640x480 with 1 Axes>"
      ]
     },
     "metadata": {},
     "output_type": "display_data"
    }
   ],
   "source": [
    "# Dividimos basados en un metodo aleatorio\n",
    "a = np.random.randn(len(df)) # Creamos un array de numeros aleatorios\n",
    "plt.hist(a, bins=200) # Graficamos el array"
   ]
  },
  {
   "cell_type": "code",
   "execution_count": 7,
   "metadata": {},
   "outputs": [],
   "source": [
    "check = (a < 0.75) # Creamos un array de booleanos\n",
    "training = df[check] # Creamos un dataframe con los valores True\n",
    "test = df[~check] # Creamos un dataframe con los valores False"
   ]
  },
  {
   "cell_type": "code",
   "execution_count": 9,
   "metadata": {},
   "outputs": [
    {
     "name": "stdout",
     "output_type": "stream",
     "text": [
      "Train shape:  (2557, 21)\n",
      "Test shape:  (776, 21)\n"
     ]
    }
   ],
   "source": [
    "print(\"Train shape: \", training.shape)\n",
    "print(\"Test shape: \", test.shape) # ~75% - 25%"
   ]
  },
  {
   "cell_type": "code",
   "execution_count": 10,
   "metadata": {},
   "outputs": [
    {
     "name": "stdout",
     "output_type": "stream",
     "text": [
      "Train shape:  (2666, 21)\n",
      "Test shape:  (667, 21)\n"
     ]
    }
   ],
   "source": [
    "# Podemos usar la funcion train_test_split de sklearn\n",
    "# Sklearn es la libreria de aprendizaje estadistico de python\n",
    "train, test = train_test_split(df, test_size=0.2) # 80% - 20%\n",
    "print(\"Train shape: \", train.shape)\n",
    "print(\"Test shape: \", test.shape) # 80% - 20%"
   ]
  },
  {
   "cell_type": "code",
   "execution_count": null,
   "metadata": {},
   "outputs": [],
   "source": []
  }
 ],
 "metadata": {
  "kernelspec": {
   "display_name": "arCluster",
   "language": "python",
   "name": "python3"
  },
  "language_info": {
   "codemirror_mode": {
    "name": "ipython",
    "version": 3
   },
   "file_extension": ".py",
   "mimetype": "text/x-python",
   "name": "python",
   "nbconvert_exporter": "python",
   "pygments_lexer": "ipython3",
   "version": "3.11.0"
  },
  "orig_nbformat": 4
 },
 "nbformat": 4,
 "nbformat_minor": 2
}
