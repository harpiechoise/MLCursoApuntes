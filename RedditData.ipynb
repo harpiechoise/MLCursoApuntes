{
 "cells": [
  {
   "cell_type": "code",
   "execution_count": 17,
   "metadata": {},
   "outputs": [],
   "source": [
    "import praw\n",
    "import os\n",
    "\n",
    "def create_reddit_object():\n",
    "    reddit_app = os.environ.get('REDDIT_APP')\n",
    "    reddit_secret = os.environ.get('REDDIT_SECRET')\n",
    "    reddit_user = os.environ.get('REDDIT_USER')\n",
    "    reddit_password = os.environ.get('REDDIT_PASSWORD')\n",
    "    reddit = praw.Reddit(client_id=reddit_app,\n",
    "                        client_secret=reddit_secret,\n",
    "                        user_agent='RedditData',\n",
    "                        username=reddit_user,\n",
    "                        password=reddit_password)\n",
    "    return reddit\n"
   ]
  },
  {
   "cell_type": "code",
   "execution_count": 18,
   "metadata": {},
   "outputs": [],
   "source": [
    "reddit = create_reddit_object()"
   ]
  },
  {
   "cell_type": "code",
   "execution_count": 19,
   "metadata": {},
   "outputs": [
    {
     "name": "stdout",
     "output_type": "stream",
     "text": [
      "Discusión random semanal\n",
      "https://www.reddit.com/r/chile/comments/12hcpkk/discusión_random_semanal/\n",
      "Participante de \"The Voice Chile\" cantó opening de Evangelion\n",
      "https://www.theclinic.cl/2023/04/12/video-participante-the-voice-chile-viral-opening-evangelion/\n",
      "Karatecas chilenos consiguen la victoria en el Mundial de Kyokushin\n",
      "https://www.biobiochile.cl/noticias/deportes/mas-deportes/2023/04/12/brillante-karatecas-chilenos-consiguen-primer-y-segundo-lugar-en-el-mundial-de-kyokushin-en-japon.shtml\n",
      "Dos carabineros resultan baleados en el sector Los Quillayes de La Florida\n",
      "https://www.biobiochile.cl/noticias/nacional/region-metropolitana/2023/04/12/dos-carabineros-resultan-baleados-en-el-sector-los-quillayes-de-la-florida.shtml\n",
      "Sebastián Piñera declaró por más de 10 horas ante fiscal Chong por su presunta responsabilidad en delitos de lesa humanidad\n",
      "https://www.adnradio.cl/nacional/2023/04/12/sebastian-pinera-declaro-por-mas-de-10-horas-ante-fiscal-chong-por-su-presunta-responsabilidad-en-delitos-de-lesa-humanidad.html\n"
     ]
    }
   ],
   "source": [
    "for i in reddit.subreddit('chile').hot(limit=5):\n",
    "    print(i.title)\n",
    "    print(i.url)"
   ]
  },
  {
   "cell_type": "code",
   "execution_count": 7,
   "metadata": {},
   "outputs": [
    {
     "data": {
      "text/plain": [
       "['__class__',\n",
       " '__delattr__',\n",
       " '__dict__',\n",
       " '__dir__',\n",
       " '__doc__',\n",
       " '__eq__',\n",
       " '__format__',\n",
       " '__ge__',\n",
       " '__getattribute__',\n",
       " '__getstate__',\n",
       " '__gt__',\n",
       " '__hash__',\n",
       " '__init__',\n",
       " '__init_subclass__',\n",
       " '__le__',\n",
       " '__lt__',\n",
       " '__module__',\n",
       " '__ne__',\n",
       " '__new__',\n",
       " '__reduce__',\n",
       " '__reduce_ex__',\n",
       " '__repr__',\n",
       " '__setattr__',\n",
       " '__sizeof__',\n",
       " '__str__',\n",
       " '__subclasshook__',\n",
       " '__weakref__',\n",
       " '_reddit',\n",
       " '_safely_add_arguments',\n",
       " 'blocked',\n",
       " 'contributor_subreddits',\n",
       " 'friends',\n",
       " 'karma',\n",
       " 'me',\n",
       " 'moderator_subreddits',\n",
       " 'multireddits',\n",
       " 'parse',\n",
       " 'pin',\n",
       " 'preferences',\n",
       " 'subreddits',\n",
       " 'trusted']"
      ]
     },
     "execution_count": 7,
     "metadata": {},
     "output_type": "execute_result"
    }
   ],
   "source": [
    "dir(reddit.user)"
   ]
  },
  {
   "cell_type": "code",
   "execution_count": 9,
   "metadata": {},
   "outputs": [
    {
     "name": "stdout",
     "output_type": "stream",
     "text": [
      "Requirement already satisfied: six in c:\\users\\psyche\\anaconda3\\envs\\ds\\lib\\site-packages (1.10.0)\n",
      "Collecting six\n",
      "  Downloading six-1.16.0-py2.py3-none-any.whl (11 kB)\n",
      "Installing collected packages: six\n",
      "  Attempting uninstall: six\n",
      "    Found existing installation: six 1.10.0\n",
      "    Uninstalling six-1.10.0:\n",
      "      Successfully uninstalled six-1.10.0\n",
      "Successfully installed six-1.16.0\n"
     ]
    }
   ],
   "source": []
  },
  {
   "cell_type": "code",
   "execution_count": null,
   "metadata": {},
   "outputs": [],
   "source": []
  }
 ],
 "metadata": {
  "kernelspec": {
   "display_name": "ds",
   "language": "python",
   "name": "python3"
  },
  "language_info": {
   "codemirror_mode": {
    "name": "ipython",
    "version": 3
   },
   "file_extension": ".py",
   "mimetype": "text/x-python",
   "name": "python",
   "nbconvert_exporter": "python",
   "pygments_lexer": "ipython3",
   "version": "3.11.2"
  },
  "orig_nbformat": 4
 },
 "nbformat": 4,
 "nbformat_minor": 2
}
