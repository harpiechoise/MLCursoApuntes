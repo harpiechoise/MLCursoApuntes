{
 "cells": [
  {
   "attachments": {},
   "cell_type": "markdown",
   "metadata": {},
   "source": [
    "# Regresión lineal\n",
    "\n",
    "Imagina que tenemos un dataset hipotetico donde queremos modelar el precio de los pisos en una ciudad de Chile según la superficie en metros cuadrados. \n",
    "\n",
    "- La entrada o **variable predictora** nos ayuda a predecir el valor de la variable de salida ($m^2$)\n",
    "- La salida o **variable predecida** es la que queremos predecir (*coste mensual*)\n",
    "\n",
    "**Nuestro dataset teorico se veria**\n",
    "|Superficie ($m^2$)|Alquiler mensual ($ CLP)|\n",
    "|---|----|\n",
    "|150|16000|\n",
    "|120|13652|\n",
    "|170|19887|\n",
    "|80|11914|\n",
    "\n",
    "Nos damos cuenta que a mayor la superficie de la habitación, tabmien es mayor el alquiler mensual, por lo tanto, podemos intuir que se puede modelar con un modelo lineal.\n",
    "\n",
    "- En el caso de la regresión lineal asumimos que el eje Y (el coste) es una función lineal de X (la superficie) y entonces es un moodelo lineal y se escribe como:\n",
    "\n",
    "$$ y_e = \\alpha + \\beta \\cdot x $$\n",
    "$$ \\text{Alquiler mensual } = \\alpha + \\beta \\cdot \\text{Superficie}$$\n",
    "\n",
    "El objetivo de la regresión lineal es encontrar 2 valores significativos de $\\alpha$ y $\\beta$ para poder acercar lo mas posibles el valor $y_e$ al valor real de y.\n",
    "\n",
    "Si somos capaces de encontrar un valor para $\\alpha$ y para $\\beta$ capaz de satisfacer los valores de salida a partir de los de entrada tendremos una función que es capaz de predecir los valores de salida a partir de los valores de X.\n",
    "\n",
    "Con los datos de la tabla creamos un modelo lineal y asi podemos obtener los posibles valores para $\\alpha$ y $\\beta$ y obtenemos.\n",
    "$$\\alpha = 4531$$\n",
    "$$\\beta = 83$$\n",
    "\n",
    "Por lo tanto la ecuación que mejor se ajusta a nuestros datos y nos puede servir para predecir precios a partir de la superficie es:\n",
    "\n",
    "$$y_e = 83(x) + 4531$$\n",
    "\n",
    "Por ejemplo si ingresamos el primer valor de X el cual es \"150\" obtenemos\n",
    "\n",
    "$$y_e = 83(150)+4531 = 16981$$\n",
    "\n",
    "Ahora vamos a graficar la regresión lineal planteada"
   ]
  },
  {
   "cell_type": "code",
   "execution_count": 6,
   "metadata": {},
   "outputs": [
    {
     "data": {
      "text/html": [
       "<style>#sk-container-id-1 {color: black;background-color: white;}#sk-container-id-1 pre{padding: 0;}#sk-container-id-1 div.sk-toggleable {background-color: white;}#sk-container-id-1 label.sk-toggleable__label {cursor: pointer;display: block;width: 100%;margin-bottom: 0;padding: 0.3em;box-sizing: border-box;text-align: center;}#sk-container-id-1 label.sk-toggleable__label-arrow:before {content: \"▸\";float: left;margin-right: 0.25em;color: #696969;}#sk-container-id-1 label.sk-toggleable__label-arrow:hover:before {color: black;}#sk-container-id-1 div.sk-estimator:hover label.sk-toggleable__label-arrow:before {color: black;}#sk-container-id-1 div.sk-toggleable__content {max-height: 0;max-width: 0;overflow: hidden;text-align: left;background-color: #f0f8ff;}#sk-container-id-1 div.sk-toggleable__content pre {margin: 0.2em;color: black;border-radius: 0.25em;background-color: #f0f8ff;}#sk-container-id-1 input.sk-toggleable__control:checked~div.sk-toggleable__content {max-height: 200px;max-width: 100%;overflow: auto;}#sk-container-id-1 input.sk-toggleable__control:checked~label.sk-toggleable__label-arrow:before {content: \"▾\";}#sk-container-id-1 div.sk-estimator input.sk-toggleable__control:checked~label.sk-toggleable__label {background-color: #d4ebff;}#sk-container-id-1 div.sk-label input.sk-toggleable__control:checked~label.sk-toggleable__label {background-color: #d4ebff;}#sk-container-id-1 input.sk-hidden--visually {border: 0;clip: rect(1px 1px 1px 1px);clip: rect(1px, 1px, 1px, 1px);height: 1px;margin: -1px;overflow: hidden;padding: 0;position: absolute;width: 1px;}#sk-container-id-1 div.sk-estimator {font-family: monospace;background-color: #f0f8ff;border: 1px dotted black;border-radius: 0.25em;box-sizing: border-box;margin-bottom: 0.5em;}#sk-container-id-1 div.sk-estimator:hover {background-color: #d4ebff;}#sk-container-id-1 div.sk-parallel-item::after {content: \"\";width: 100%;border-bottom: 1px solid gray;flex-grow: 1;}#sk-container-id-1 div.sk-label:hover label.sk-toggleable__label {background-color: #d4ebff;}#sk-container-id-1 div.sk-serial::before {content: \"\";position: absolute;border-left: 1px solid gray;box-sizing: border-box;top: 0;bottom: 0;left: 50%;z-index: 0;}#sk-container-id-1 div.sk-serial {display: flex;flex-direction: column;align-items: center;background-color: white;padding-right: 0.2em;padding-left: 0.2em;position: relative;}#sk-container-id-1 div.sk-item {position: relative;z-index: 1;}#sk-container-id-1 div.sk-parallel {display: flex;align-items: stretch;justify-content: center;background-color: white;position: relative;}#sk-container-id-1 div.sk-item::before, #sk-container-id-1 div.sk-parallel-item::before {content: \"\";position: absolute;border-left: 1px solid gray;box-sizing: border-box;top: 0;bottom: 0;left: 50%;z-index: -1;}#sk-container-id-1 div.sk-parallel-item {display: flex;flex-direction: column;z-index: 1;position: relative;background-color: white;}#sk-container-id-1 div.sk-parallel-item:first-child::after {align-self: flex-end;width: 50%;}#sk-container-id-1 div.sk-parallel-item:last-child::after {align-self: flex-start;width: 50%;}#sk-container-id-1 div.sk-parallel-item:only-child::after {width: 0;}#sk-container-id-1 div.sk-dashed-wrapped {border: 1px dashed gray;margin: 0 0.4em 0.5em 0.4em;box-sizing: border-box;padding-bottom: 0.4em;background-color: white;}#sk-container-id-1 div.sk-label label {font-family: monospace;font-weight: bold;display: inline-block;line-height: 1.2em;}#sk-container-id-1 div.sk-label-container {text-align: center;}#sk-container-id-1 div.sk-container {/* jupyter's `normalize.less` sets `[hidden] { display: none; }` but bootstrap.min.css set `[hidden] { display: none !important; }` so we also need the `!important` here to be able to override the default hidden behavior on the sphinx rendered scikit-learn.org. See: https://github.com/scikit-learn/scikit-learn/issues/21755 */display: inline-block !important;position: relative;}#sk-container-id-1 div.sk-text-repr-fallback {display: none;}</style><div id=\"sk-container-id-1\" class=\"sk-top-container\"><div class=\"sk-text-repr-fallback\"><pre>LinearRegression()</pre><b>In a Jupyter environment, please rerun this cell to show the HTML representation or trust the notebook. <br />On GitHub, the HTML representation is unable to render, please try loading this page with nbviewer.org.</b></div><div class=\"sk-container\" hidden><div class=\"sk-item\"><div class=\"sk-estimator sk-toggleable\"><input class=\"sk-toggleable__control sk-hidden--visually\" id=\"sk-estimator-id-1\" type=\"checkbox\" checked><label for=\"sk-estimator-id-1\" class=\"sk-toggleable__label sk-toggleable__label-arrow\">LinearRegression</label><div class=\"sk-toggleable__content\"><pre>LinearRegression()</pre></div></div></div></div></div>"
      ],
      "text/plain": [
       "LinearRegression()"
      ]
     },
     "execution_count": 6,
     "metadata": {},
     "output_type": "execute_result"
    }
   ],
   "source": [
    "from sklearn.linear_model import LinearRegression\n",
    "import numpy as np\n",
    "import matplotlib.pyplot as plt\n",
    "\n",
    "superficie = [150, 120, 170, 80]\n",
    "# Generar datos para formar una linea perfecta\n",
    "coste_clp = [16000, 13652, 19887, 11914]\n",
    "# Crear el modelo\n",
    "modelo = LinearRegression()\n",
    "superficie_np = np.array(superficie).reshape(-1, 1)\n",
    "modelo.fit(superficie_np, coste_clp)"
   ]
  },
  {
   "cell_type": "code",
   "execution_count": 7,
   "metadata": {},
   "outputs": [
    {
     "name": "stdout",
     "output_type": "stream",
     "text": [
      "Alpha:  4531.989130434786\n",
      "Beta:  [83.3173913]\n"
     ]
    },
    {
     "data": {
      "text/plain": [
       "[<matplotlib.lines.Line2D at 0x7f01ca95db50>]"
      ]
     },
     "execution_count": 7,
     "metadata": {},
     "output_type": "execute_result"
    },
    {
     "data": {
      "image/png": "[encoded data removed]",
      "text/plain": [
       "<Figure size 640x480 with 1 Axes>"
      ]
     },
     "metadata": {},
     "output_type": "display_data"
    }
   ],
   "source": [
    "print(\"Alpha: \", modelo.intercept_)\n",
    "print(\"Beta: \", modelo.coef_)\n",
    "\n",
    "# Grafico \n",
    "plt.scatter(superficie, coste_clp)\n",
    "# Prediccion\n",
    "valores_continuos = np.linspace(min(superficie), max(superficie), 200)\n",
    "linea = modelo.predict(valores_continuos.reshape(-1, 1))\n",
    "plt.plot(valores_continuos, linea, c=\"red\") "
   ]
  },
  {
   "attachments": {},
   "cell_type": "markdown",
   "metadata": {},
   "source": [
    "El objetivo es encontrar una ecuacion lineal minimice las diferencias entre el resultado de la ecuación y el valor real. El error se define como:\n",
    "\n",
    "$$ e_i = (y_i - Y_e(X_i)) $$\n",
    "\n",
    "Y el objetivo es encontrar 2 valores tales que minimicen la suma de los errores al cuadrado:\n",
    "\n",
    "$$\\sum\\limits_{i=0}^{n}{e^2_i} = \\sum\\limits_{i=0}^{n}{(y_i - Y_e(X_i))^2} = \\sum\\limits_{i=0}^{n}{(y_i - (\\alpha(x_i) + \\beta))^2}$$\n",
    "\n",
    "Para despejar los parámetros de esta ecuación podemos decir que:\n",
    "\n",
    "$$\n",
    "\\beta = \\frac{Cov(x,y)}{Var(x,y)} = \\frac{\\sum\\limits^n_{i=1}{(x_i-\\overline{x})(y_i - \\overline{y})}}{\\sum\\limits^n_{i=1}{(x_i - \\overline{x}})^2}\n",
    "$$\n",
    "\n",
    "Donde $\\overline{x}$ Es la media\n",
    "\n",
    "$$\n",
    "\\alpha = \\overline{y} - \\beta \\cdot \\overline{x}\n",
    "$$\n",
    "\n",
    "Despejamos la ecuación sabiendo el valor de $\\beta$\n",
    "\n",
    "\n",
    "La estimación de Y para la regresión lineal seguirá un modelo perfectamente lineal, eso no es realmente lo que pasa en la vida real, por lo tanto se le suma una *componente residual llamada $\\epsilon$*.\n",
    "\n",
    "Modelo + residuo:\n",
    "$$\n",
    "y = \\alpha (x) + \\beta + \\epsilon\n",
    "$$\n",
    "\n",
    "El residuo es una variable aleatoria que sigue una distribución normal.\n",
    "\n",
    "Vamos a empezar a crear nuestro primer modelo de regresión lineal y el primero de los ejemplos va a ser con datos simulados. Vamos a simular datos para dos variables para ver como predecir la Y estimada en función de X. \n",
    "\n",
    "Recordar que el modelo lineal busca:\n",
    "$$\n",
    "y = a(x) + b\n",
    "$$\n",
    "\n",
    "**Descripción de la simulación**:\n",
    "- X: Serán 100 valores distribuidos segun una N(1.5, 2.5)\n",
    "- y_e: Será 2(x)+0.3 + e\n",
    "- e estará normalmente distribuido según una N(0.0.8)\n",
    "\n",
    "\n"
   ]
  },
  {
   "cell_type": "code",
   "execution_count": 8,
   "metadata": {},
   "outputs": [
    {
     "data": {
      "text/html": [
       "<div>\n",
       "<style scoped>\n",
       "    .dataframe tbody tr th:only-of-type {\n",
       "        vertical-align: middle;\n",
       "    }\n",
       "\n",
       "    .dataframe tbody tr th {\n",
       "        vertical-align: top;\n",
       "    }\n",
       "\n",
       "    .dataframe thead th {\n",
       "        text-align: right;\n",
       "    }\n",
       "</style>\n",
       "<table border=\"1\" class=\"dataframe\">\n",
       "  <thead>\n",
       "    <tr style=\"text-align: right;\">\n",
       "      <th></th>\n",
       "      <th>x</th>\n",
       "      <th>y_actual</th>\n",
       "      <th>y_prediccion</th>\n",
       "    </tr>\n",
       "  </thead>\n",
       "  <tbody>\n",
       "    <tr>\n",
       "      <th>0</th>\n",
       "      <td>-0.816554</td>\n",
       "      <td>-0.604784</td>\n",
       "      <td>-1.333108</td>\n",
       "    </tr>\n",
       "    <tr>\n",
       "      <th>1</th>\n",
       "      <td>-0.019423</td>\n",
       "      <td>0.823502</td>\n",
       "      <td>0.261154</td>\n",
       "    </tr>\n",
       "    <tr>\n",
       "      <th>2</th>\n",
       "      <td>1.665248</td>\n",
       "      <td>3.892477</td>\n",
       "      <td>3.630495</td>\n",
       "    </tr>\n",
       "    <tr>\n",
       "      <th>3</th>\n",
       "      <td>4.533894</td>\n",
       "      <td>9.176267</td>\n",
       "      <td>9.367787</td>\n",
       "    </tr>\n",
       "    <tr>\n",
       "      <th>4</th>\n",
       "      <td>1.161555</td>\n",
       "      <td>2.281382</td>\n",
       "      <td>2.623110</td>\n",
       "    </tr>\n",
       "  </tbody>\n",
       "</table>\n",
       "</div>"
      ],
      "text/plain": [
       "          x  y_actual  y_prediccion\n",
       "0 -0.816554 -0.604784     -1.333108\n",
       "1 -0.019423  0.823502      0.261154\n",
       "2  1.665248  3.892477      3.630495\n",
       "3  4.533894  9.176267      9.367787\n",
       "4  1.161555  2.281382      2.623110"
      ]
     },
     "execution_count": 8,
     "metadata": {},
     "output_type": "execute_result"
    }
   ],
   "source": [
    "import pandas as pd\n",
    "# Generar la distribución de X\n",
    "x = 1.5 + 2.5 * np.random.randn(100) # 100 valores aleatorios normalmente distribuidos con media 1.5 y desviación 2.5\n",
    "# Generar los residuos\n",
    "res = 0.8 * np.random.randn(100) # 100 valores aleatorios normalmente distribuidos con media 0 y desviación 0.8\n",
    "# Generar la distribución de la predicción de Y\n",
    "y_pred = 2*x + 0.3\n",
    "# Generar la distribución de Y\n",
    "y_act = 2*x + 0.3 + res\n",
    "\n",
    "x_list = x.tolist()\n",
    "y_pred_list = y_pred.tolist()\n",
    "y_act_list = y_act.tolist()\n",
    "\n",
    "data = pd.DataFrame(\n",
    "    {\n",
    "        \"x\": x_list,\n",
    "        \"y_actual\": y_act_list,\n",
    "        \"y_prediccion\": y_pred_list\n",
    "    }\n",
    ")\n",
    "\n",
    "data.head()"
   ]
  },
  {
   "cell_type": "code",
   "execution_count": 9,
   "metadata": {},
   "outputs": [
    {
     "data": {
      "text/plain": [
       "Text(0.5, 1.0, 'Valor actual vs Predicción')"
      ]
     },
     "execution_count": 9,
     "metadata": {},
     "output_type": "execute_result"
    },
    {
     "data": {
      "image/png": "[encoded data removed]",
      "text/plain": [
       "<Figure size 640x480 with 1 Axes>"
      ]
     },
     "metadata": {},
     "output_type": "display_data"
    }
   ],
   "source": [
    "import matplotlib.pyplot as plt\n",
    "plt.plot(data[\"x\"], data[\"y_prediccion\"])\n",
    "plt.plot(data[\"x\"], data[\"y_actual\"], \"ro\")\n",
    "y_mean = [np.mean(y_act) for i in range(1, len(x_list) + 1)]\n",
    "plt.plot(data[\"x\"], y_mean, \"g\")\n",
    "plt.title(\"Valor actual vs Predicción\")\n"
   ]
  },
  {
   "attachments": {},
   "cell_type": "markdown",
   "metadata": {},
   "source": [
    "¿Por que pintamos el promedio?, esto es porque en caso de que no tengamos un modelo predictor lo suficientemente preciso podemos elegir el promedio de los valores observados y decir que el promedio va a ser o no ser una manera de calcular los valores.\n",
    "\n",
    "Si nosotros tenemos datos que contienen dos variables, entradas y salidas, nuestro programa va a generar unos valores de $\\alpha$ y $\\beta$, pero ¿como podemos entender los valores entregados por el modelo?.\n",
    "\n",
    "En el caso que tenemos, **los puntos estan relativamente cerca del modelo lineal**. Si tenemos un punto que ésta desplazado de la linea azul, la distancia del valor observado hasta el modelo hay un pequeño desplazamiento, y ese desplazamiento se denomina la **variación con respecto al modelo**. El modelo no puede explicar por que se separa tanto o tampoco del valor actual.\n",
    "\n",
    "Esta distancia es la **Diferencia respecto al modelo**. Entonces luego tenemos que tampoco esta sobre la media (linea verde), por lo tanto desde el punto observado hasta el promedio tenemos otra distancia que se denomina **Diferencia cuadrativa con respecto al modelo**. \n",
    "\n",
    "Y tambien exist un tercer valor que es la diferencia que existe entre la recta de regresión y la recta promedio o la distancia entre la regresión y el modelo y esta se llama **diferencia de los cuadrados de la predicción**. Estros tres valores forman 3 unidades de medida\n",
    "\n",
    "- SSD (Suma de los cuadrados de las diferencias): Es el error aleatorio que no podemos controlar.\n",
    "- SST (Suma de los cuadrados totales): Es el error entre los puntos y el promedio.\n",
    "- SSR (Suma de los cuadrados de la regresión): Es el error entre la regresión y el promedio.\n",
    "\n",
    "En un mundo que fuera perfecto, los puntos estarian encima de la recta, y las diferencias de los cuadrados de la suma desapareceria y la suma de los cuadrados totales coincidiria con la suma de la regresión.\n",
    "\n",
    "Para cada uno de los puntos podriamos calcular las distancias totales para cada una de las metricas. Esta distancia entre el punto y el promedio, indica el error que tendriamos en el caso de tomar como modelo el promedio de la distribución. \n",
    "\n",
    "Con estas metricas nace el siguiente teorema:\n",
    "$$\n",
    "SST = SSR = SSD\n",
    "$$\n",
    "\n",
    "Y desde aqui se define un estadistico para saber si **una regresión es util o no** que se denomina $R^2$ que se define por:\n",
    "\n",
    "$$\n",
    "R^2= \\frac{SSR}{SST}\n",
    "$$\n",
    "\n",
    "Este número sera siempre **menor o igual a 1** y mientras mas **cercano sea $R^2$ a 1, nuestro modelo lineal será mejor para explicar los datos**.\n",
    "\n",
    "Si bien $R^2$ es un buen indicador de que el modelo ha sido efectivo, no puede determinar por si solo si el modelo ha ajustado correctamente o no."
   ]
  },
  {
   "cell_type": "code",
   "execution_count": 10,
   "metadata": {},
   "outputs": [
    {
     "name": "stdout",
     "output_type": "stream",
     "text": [
      "Suma de los cuadrados de la regresión (SSR):  2527.18\n",
      "Suma de los cuadrados de la diferencia (SSD):  67.13\n",
      "Suma de los cuadrados totales (SST):  2573.06\n",
      "SSR + SSD =  2594.3045584748406 = SST:  2573.06\n",
      "Diferencia entre SST y SSR + SSD:  21.25\n"
     ]
    }
   ],
   "source": [
    "# Para calcular SST SSD y SSR\n",
    "data[\"SSR\"] = (data[\"y_prediccion\"] - np.mean(y_act))**2\n",
    "data[\"SSD\"] = (data[\"y_prediccion\"] - data[\"y_actual\"])**2\n",
    "data[\"SST\"] = (data[\"y_actual\"] - np.mean(y_act))**2\n",
    "\n",
    "SSR = sum(data[\"SSR\"])\n",
    "SSD = sum(data[\"SSD\"])\n",
    "SST = sum(data[\"SST\"])\n",
    "\n",
    "print(\"Suma de los cuadrados de la regresión (SSR): \", round(SSR, 2))\n",
    "print(\"Suma de los cuadrados de la diferencia (SSD): \", round(SSD, 2))\n",
    "print(\"Suma de los cuadrados totales (SST): \", round(SST, 2))\n",
    "print(\"SSR + SSD = \", SSR + SSD, \"= SST: \", round(SST, 2))\n",
    "print(\"Diferencia entre SST y SSR + SSD: \", round((SSR + SSD)-SST, 2))\n",
    "\n",
    "# Teniendo en cuenta estos valores podemos determinar que el modelo es bueno\n",
    "# Que SSR sea 2787 teniendo solo 100 muestras significa que el la mayoria de los casos pueden ser explicados por el modelo, significa que el 97.7% de los datos se pueden explicar por el modelo\n",
    "# Que el SSD sea 90.02 con 100 muestras significa que el modelo no es perfecto, pero es bueno, significa que el 90.02% de los datos se pueden explicar por el modelo\n",
    "# Que el SST sea 2850 con 100 muestras significa que el porcentaje de variabilidad de los datos es del 98.2% explicado por el modelo\n"
   ]
  },
  {
   "cell_type": "code",
   "execution_count": 11,
   "metadata": {},
   "outputs": [
    {
     "data": {
      "text/plain": [
       "(array([ 4.,  4.,  9., 11., 23., 17., 15.,  8.,  5.,  4.]),\n",
       " array([-1.98859723, -1.61452812, -1.24045901, -0.8663899 , -0.49232079,\n",
       "        -0.11825168,  0.25581743,  0.62988654,  1.00395565,  1.37802476,\n",
       "         1.75209387]),\n",
       " <BarContainer object of 10 artists>)"
      ]
     },
     "execution_count": 11,
     "metadata": {},
     "output_type": "execute_result"
    },
    {
     "data": {
      "image/png": "[encoded data removed]",
      "text/plain": [
       "<Figure size 640x480 with 1 Axes>"
      ]
     },
     "metadata": {},
     "output_type": "display_data"
    }
   ],
   "source": [
    "# Distribucion de los residuos\n",
    "plt.hist(data[\"y_actual\"] - data[\"y_prediccion\"], bins=10)"
   ]
  },
  {
   "attachments": {},
   "cell_type": "markdown",
   "metadata": {},
   "source": [
    "Si bien hasta ahora solo hemos estudiado como se comportaba esa regresión ficticia, ahora vamos a intentar predecir el valor actual. para eso vamos a usar las formulas que habiamos visto anteriormente\n",
    "\n",
    "$$y = \\alpha (x) * \\beta$$\n",
    "$$b = \\frac{cov(x, y)}{var(x, y)}$$\n",
    "$$\\alpha = y_n - b * x_m$$"
   ]
  },
  {
   "cell_type": "code",
   "execution_count": 18,
   "metadata": {},
   "outputs": [
    {
     "name": "stdout",
     "output_type": "stream",
     "text": [
      "Alpha:  0.20285700153122654\n",
      "Beta:  1.9925384166428797\n"
     ]
    },
    {
     "data": {
      "text/plain": [
       "0.6712584884738773"
      ]
     },
     "execution_count": 18,
     "metadata": {},
     "output_type": "execute_result"
    }
   ],
   "source": [
    "def lineal_regression(x, y):\n",
    "    beta_variance = np.sum((x - np.mean(x))**2)\n",
    "    beta_covariance = np.sum((x - np.mean(x)) * (y - np.mean(y)))\n",
    "    beta = beta_covariance / beta_variance\n",
    "    alpha = np.mean(y) - beta * np.mean(x)\n",
    "    print(\"Alpha: \", alpha)\n",
    "    print(\"Beta: \", beta)\n",
    "    return lambda x: alpha + beta * x\n",
    "\n",
    "lineal_regression(data[\"x\"], data[\"y_actual\"])\n",
    "\n",
    "# Error cuadratico medio\n",
    "def error_cuadratico_medio(y, y_pred):\n",
    "    return np.sum((y - y_pred)**2) / len(y)\n",
    "\n",
    "error_cuadratico_medio(data[\"y_actual\"], data[\"y_prediccion\"])\n"
   ]
  },
  {
   "cell_type": "code",
   "execution_count": 37,
   "metadata": {},
   "outputs": [
    {
     "name": "stdout",
     "output_type": "stream",
     "text": [
      "Alpha:  0.20285700153122654\n",
      "Beta:  1.9925384166428797\n"
     ]
    },
    {
     "data": {
      "text/plain": [
       "Text(0.5, 1.0, 'Recta de regresión')"
      ]
     },
     "execution_count": 37,
     "metadata": {},
     "output_type": "execute_result"
    },
    {
     "data": {
      "image/png": "[encoded data removed]",
      "text/plain": [
       "<Figure size 640x480 with 1 Axes>"
      ]
     },
     "metadata": {},
     "output_type": "display_data"
    }
   ],
   "source": [
    "# Graficar la recta de regresion\n",
    "modelo = lineal_regression(data[\"x\"], data[\"y_actual\"])\n",
    "x_real = np.linspace(min(data[\"x\"]), max(data[\"x\"]), 100)\n",
    "y_pred = modelo(x_real)\n",
    "plt.plot(x_real, y_pred)\n",
    "plt.plot(data[\"x\"], data[\"y_actual\"], \"ro\")\n",
    "# Graficar la media\n",
    "y_mean = [np.mean(y_act) for i in range(1, len(x_list) + 1)]\n",
    "plt.plot(data[\"x\"], y_mean, \"g\")\n",
    "plt.title(\"Recta de regresión\")\n"
   ]
  },
  {
   "cell_type": "code",
   "execution_count": 38,
   "metadata": {},
   "outputs": [
    {
     "data": {
      "text/plain": [
       "(array([ 4.,  4.,  9., 11., 23., 17., 15.,  8.,  5.,  4.]),\n",
       " array([-1.98859723, -1.61452812, -1.24045901, -0.8663899 , -0.49232079,\n",
       "        -0.11825168,  0.25581743,  0.62988654,  1.00395565,  1.37802476,\n",
       "         1.75209387]),\n",
       " <BarContainer object of 10 artists>)"
      ]
     },
     "execution_count": 38,
     "metadata": {},
     "output_type": "execute_result"
    },
    {
     "data": {
      "image/png": "[encoded data removed]",
      "text/plain": [
       "<Figure size 640x480 with 1 Axes>"
      ]
     },
     "metadata": {},
     "output_type": "display_data"
    }
   ],
   "source": [
    "# Grafico de los residuos\n",
    "plt.hist(data[\"y_actual\"] - data[\"y_prediccion\"], bins=10)\n",
    "# Los residuos estan normalmente distribuidos."
   ]
  },
  {
   "cell_type": "code",
   "execution_count": 49,
   "metadata": {},
   "outputs": [
    {
     "name": "stdout",
     "output_type": "stream",
     "text": [
      "R2:  0.9739120397651174\n",
      "SSR:  2527.178709627453\n",
      "SSD:  67.12584884738773\n",
      "SST:  2573.058538997339\n",
      "SSR + SSD =  2594.3045584748406 = SST:  2573.058538997339\n",
      "Diferencia entre SST y SSR + SSD:  21.246019477501704\n",
      "Error resuido estandar:  0.8276216776401369\n"
     ]
    }
   ],
   "source": [
    "def compute_r2(y, y_pred):\n",
    "    u = ((y - y_pred)**2).sum()\n",
    "    v = ((y - np.mean(y))**2).sum()\n",
    "    return 1 - u/v\n",
    "\n",
    "r2 = compute_r2(data[\"y_actual\"], data[\"y_prediccion\"])\n",
    "print(\"R2: \", r2)\n",
    "\n",
    "# Un coeficiente R2 del 0.97 significa que el modelo explica el 97% de la variabilidad de los datos\n",
    "\n",
    "def compute_ssr_sst_ssd(y, y_pred):\n",
    "    ssr = ((y_pred - np.mean(y))**2).sum()\n",
    "    ssd = ((y_pred - y)**2).sum()\n",
    "    sst = ((y - np.mean(y))**2).sum()\n",
    "    return ssr, ssd, sst\n",
    "\n",
    "def compute_rse(y, y_pred):\n",
    "    return np.sqrt(np.sum((y - y_pred)**2) / (len(y) - 2))\n",
    "\n",
    "ssr, ssd, sst = compute_ssr_sst_ssd(data[\"y_actual\"], data[\"y_prediccion\"])\n",
    "print(\"SSR: \", ssr)\n",
    "print(\"SSD: \", ssd)\n",
    "print(\"SST: \", sst)\n",
    "print(\"SSR + SSD = \", ssr + ssd, \"= SST: \", sst)\n",
    "print(\"Diferencia entre SST y SSR + SSD: \", (ssr + ssd)-sst)\n",
    "print(\"Error resuido estandar: \", compute_rse(data[\"y_actual\"], data[\"y_prediccion\"]))\n"
   ]
  },
  {
   "attachments": {},
   "cell_type": "markdown",
   "metadata": {},
   "source": [
    "## Interpretando los parámetros de la regresión\n",
    "\n",
    "### P-valor\n",
    "El mas sencillo de entender, es que calcular tanto el valor de $\\alpha$ y el valor de $\\beta$ nos entrega estimadores, pero no son calculos exacto, tal vez los valores son significativos o no, y los mejor es hacer un contraste de hipotesis para saber si son significativos o no.\n",
    "\n",
    "Lo primero que tenemos que mirar es si $\\beta$ tiende a ser cero o si existe suficiente coorelación entre $x$ y la variable a predecir. En caso de existir una *covarianza positiva*, entonces como hipotesis nula tenemos que $\\beta$ es cero, y como hipotesis alternativa tendriamos que $\\beta$ no es cero:\n",
    "\n",
    "$$\n",
    "H_0: \\beta = 0\n",
    "$$\n",
    "\n",
    "$$\n",
    "H_1: \\beta \\neq 0\n",
    "$$\n",
    "\n",
    "En este caso el programa hace el contraste de hipotesis solo, y nosotros solo tenemos que definir un P_valor que sea significativo para contrastar nuestra hipotesis.\n",
    "\n",
    "Lo que nos interesa es que el **p-valor** sea lo mas pequeños posible. Para **p-valores** lo suficientemente grandes demostraremos que $\\beta$ no es significativo para explicar las dos variables. Cuando mayor sea el **p-valor** menor será la significatividad de los valores para el modelo.\n",
    "\n",
    "### F-valor\n",
    "\n",
    "cuando uno está haciendo una regresión lineal multiple, tendremos **multiples valores para $\\beta$**. Tambien es necesario comprobar si el **grupo de todas las variables predictoras en conjunto son o no significativas**. Para saber esto podemos hacer otro contraste de hipotesis, donde la hipotesis nula es que todos los factores que $\\beta$ que acompañan a los predictores son 0 en contra que existe algún $\\beta_i$ que no sea igual a cero.\n",
    "\n",
    "$$\n",
    "H_0: \\beta_1 = \\beta_2 = ... = \\beta_k = 0 \\\\\n",
    "H_1: \\beta_i \\neq 0 \\text{ para algun } i\n",
    "$$\n",
    "\n",
    "Para validar este contraste de hipotesis podemos usar el \"F-valor\". porque utiliza la distribución F de Fisher y se calcula como:\n",
    "\n",
    "$$\n",
    "F = \\frac{\\frac{SSR}{k}}{\\frac{SSD}{n-k-1}}\n",
    "$$\n",
    "\n",
    "donde \n",
    "\n",
    "$$\n",
    "p = P(F > F_{k, n-k-1}) \\\\\n",
    "\n",
    "SST = \\sum{(y_i - \\overline{y})^2}\\\\\n",
    "SSR = \\sum{(Y(x_i) - \\overline{y})^2}\\\\\n",
    "SSD = \\sum{(y_i - Y(x_i))2}\n",
    "$$\n",
    "\n",
    "- $n$ es el número de filas que tiene el dataset\n",
    "- $p$ el número de variables predictoras que tiene el modelo\n",
    "\n",
    "Si el estadistico de Fisher es suficientemente pequeño, usamos la **hipotesis alternativa**. En particular la significatividad del estadistico **F**.\n",
    "\n",
    "- En el caso de una regresión lineal multiple\n",
    "    - Mirar el nivel de significación de cada parámetro por separado, puede ser realmente pequeño y aceptar la hipotesis alternativa de cada uno por separado no es nulo y existe correlación entre la predicción y la variable\n",
    "    - Si lo miramos todos juntos, podria ocurrir que el p-valor fuera grande y acabaramos aceptando la hipotesis nula de que el conjunto de predictores no guarda relación con la predicción.\n",
    "\n",
    "### El error estandar de los residuos\n",
    "\n",
    "La suma de los errores de los residuos, es una estimación de la desviación estandar del termino del error, éste error es inevitable incluso si los coeficientes de los modelos son calculados a priori. \n",
    "\n",
    "$$\n",
    "RSE = \\sqrt{\\frac{\\sum{(y_i - Y(x_i))^2}}{n-2}}\n",
    "$$\n",
    "\n",
    "Para multiples variables\n",
    "$$\n",
    "RSE = \\sqrt{\\frac{SSD}{n-k-1}}\n",
    "$$\n",
    "\n",
    "Cuanto menor sea el RSE mejor es el modelo.\n"
   ]
  },
  {
   "attachments": {},
   "cell_type": "markdown",
   "metadata": {},
   "source": [
    "## Variables categoricas \n",
    "\n",
    "Por ahora hemos asumido que todas las variables para realizar nuestros modelos son continuas, si nos fijamos hemos usado el gasto en publicidad, periodicos, televisión y radio. Estas variables pueden tomar valores que van desde -inf a inf. \n",
    "\n",
    "Pero en algunos casos hay variables categoricas que pueden representar una mejora para el modelo. Por lo tanto, ¿como procesar las variables categoricas para que sean parte del modelo?.\n",
    "\n",
    "- Podriamos asignar números enteros para sucesivos para cada categoria (0, 1, 2...)\n",
    "\n",
    "El problema ésta es que muchas veces esto nos podria llevar a un resultado equivoco e incluso podria pasar que el número asignado a cada categoria cambiara y el modelo no serviria para nada.\n",
    "\n",
    "Para las variables categoricas se usan las **variables dummy**. El proceso para usar variables categoricas es.\n",
    "\n",
    "La formula de un modelo de regresión de varias variables es:\n",
    "\n",
    "$$y_{pred} = \\alpha+\\beta_1x_1 + \\beta_2x_2+...+\\beta_nx_n + \\epsilon$$\n",
    "\n",
    "Por lo tanto la forma de agregar las variables categoricas es dividiendo las variables categoricas en nuevas variables representativas de su clase. Si tenemos a $x_k$ como variable de una categoria binaria como \"genero\". \n",
    "\n",
    "Tenemos que crear 2 variables que representen las clases:\n",
    "\n",
    "- 0 Si el cliente es hombre\n",
    "- 1 Si el cliente es mujer "
   ]
  },
  {
   "attachments": {},
   "cell_type": "markdown",
   "metadata": {},
   "source": [
    "# Ultimos aspectos a considerar en los modelos lineales\n",
    "\n",
    "## Analizar los residuos\n",
    "- Hacer un grafico de los residuos frente a la variable predictora.\n",
    "    - La dispersión de los residuos debe ser de forma normal, en principio no tiene que haber una forma claramente identificable\n",
    "    - Si el residuo sigue alguna tendencia o recta tipica, significa que están correlacionados.\n",
    "    - El error tiene que ser aleatorio y no deben poder ser estimados.\n",
    "    - Los puntos de cualquier plot de los residuos deberian estar concentrados en el centro de la distribución y sin un patrón diferenciador.\n",
    "    - La distribución tiene que ser cercana al centro del grafico.\n",
    "    - Siempre intentar que los residuos esten lo mas distribuidos posibles.\n",
    "- Otra cosa a tener en cuenta es la varianza no constante en los terminos del error\n",
    "    - El termino de error asociado a un modelo se supone que tiene una varianza constante\n",
    "    - El problema se llama **Heterocedasticidad** y se identifica que haciendo un scatter plot de los residuos y la media y viendo si el grafico tiene forma de embudo. Esto nos indica que sobre el eje X mientras me muevo a la izquierda los errores estan mas dispersos.\n",
    "    - La **Homocedasticidad** Es cuando todos los errores estan distribuidos en forma uniforme.\n",
    "    - Se puede mejorar usando una función concaba, como raiz cuadrada y logaritmo, en vez de hacer la predicción directa, hacemos una predicción de su raiz o logaritmo\n",
    "\n",
    "- Puntos con apalancamiento elevado:\n",
    "    - Los puntos con apalancamiento elevado, tienen un valor muy alto para la variable predictora, y tenerlos nos puede distorsionar mucho el model\n",
    "    - Para identificarlo hacemos un scatter plot y encontraremos puntos muy a la derecha del gráfico que básicamente destacan por estar separados del resto. A veces es dificil hacerlo en una regresión multiple.\n",
    "    - Se puede calcular con la formula de **laverage**.\n",
    "    - Lo mas dificil es identificarlo, pero si no podemos graficarlos podemos usar la formula **laverage**.\n",
    "        $$ \\text{laverage}_i = \\frac{1}{n} + \\frac{(x_i-\\overline{x})^2}{\\sum{(x_i-\\overline{x})^2}} $$\n",
    "    - Las filas con mayor apalancamiento se eliminan.\n",
    "    "
   ]
  },
  {
   "attachments": {},
   "cell_type": "markdown",
   "metadata": {},
   "source": [
    "## Lista de lo estudiado\n",
    "- Regresión lineal\n",
    "- Estimación de parametros con la tecnica de los minimos cuadrados\n",
    "- En Python usar statmodels y scikit-learn\n",
    "- A mayor R², el modelo puede ser mejor\n",
    "- Hay que comprobar los p-valores y los restadisticos F y RSE.\n",
    "- Multicolienalidad y VIF\n",
    "- Entrenamiento y Testing\n",
    "- Selección de variables manual y automaticamente\n",
    "- Variables categoricas y su conversión a dummies\n",
    "- Transformacion de variables para convertirlas a función lineal."
   ]
  }
 ],
 "metadata": {
  "kernelspec": {
   "display_name": "arCluster",
   "language": "python",
   "name": "python3"
  },
  "language_info": {
   "codemirror_mode": {
    "name": "ipython",
    "version": 3
   },
   "file_extension": ".py",
   "mimetype": "text/x-python",
   "name": "python",
   "nbconvert_exporter": "python",
   "pygments_lexer": "ipython3",
   "version": "3.11.0"
  },
  "orig_nbformat": 4
 },
 "nbformat": 4,
 "nbformat_minor": 2
}
