{
 "cells": [
  {
   "cell_type": "code",
   "execution_count": 1,
   "id": "bcb5d335-ba81-4c1d-afe8-72444a78f3fa",
   "metadata": {},
   "outputs": [],
   "source": [
    "import pandas as pd"
   ]
  },
  {
   "cell_type": "code",
   "execution_count": 2,
   "id": "b755df2e-cb8b-45de-a5c5-78bb0fc689b3",
   "metadata": {},
   "outputs": [],
   "source": [
    "df = pd.read_csv(\"ml-latest-small/ratings.csv\")"
   ]
  },
  {
   "cell_type": "code",
   "execution_count": 5,
   "id": "213e5183-76ca-46ee-9ecc-516fd30d5f98",
   "metadata": {},
   "outputs": [
    {
     "data": {
      "text/plain": [
       "(array([ 1370.,  2811.,  1791.,  7551.,  5550., 20047., 13136., 26818.,\n",
       "         8551., 13211.]),\n",
       " array([0.5 , 0.95, 1.4 , 1.85, 2.3 , 2.75, 3.2 , 3.65, 4.1 , 4.55, 5.  ]),\n",
       " <BarContainer object of 10 artists>)"
      ]
     },
     "execution_count": 5,
     "metadata": {},
     "output_type": "execute_result"
    },
    {
     "data": {
      "image/png": "[encoded data removed]",
      "text/plain": [
       "<Figure size 640x480 with 1 Axes>"
      ]
     },
     "metadata": {},
     "output_type": "display_data"
    }
   ],
   "source": [
    "import matplotlib.pyplot as plt \n",
    "\n",
    "plt.hist(df['rating'])"
   ]
  },
  {
   "cell_type": "code",
   "execution_count": 13,
   "id": "ed5cad04-1a22-4044-99bf-48931d521626",
   "metadata": {},
   "outputs": [
    {
     "data": {
      "text/plain": [
       "(array([8.946e+03, 4.990e+02, 1.410e+02, 7.200e+01, 2.800e+01, 1.800e+01,\n",
       "        1.200e+01, 3.000e+00, 2.000e+00, 3.000e+00]),\n",
       " array([  1. ,  33.8,  66.6,  99.4, 132.2, 165. , 197.8, 230.6, 263.4,\n",
       "        296.2, 329. ]),\n",
       " <BarContainer object of 10 artists>)"
      ]
     },
     "execution_count": 13,
     "metadata": {},
     "output_type": "execute_result"
    },
    {
     "data": {
      "image/png": "[encoded data removed]",
      "text/plain": [
       "<Figure size 640x480 with 1 Axes>"
      ]
     },
     "metadata": {},
     "output_type": "display_data"
    }
   ],
   "source": [
    "plt.hist(df.groupby(['movieId'])['movieId'].count())"
   ]
  },
  {
   "cell_type": "code",
   "execution_count": 7,
   "id": "3107f0ed-3911-41f9-b2bd-a6116f074207",
   "metadata": {},
   "outputs": [
    {
     "data": {
      "text/html": [
       "<div>\n",
       "<style scoped>\n",
       "    .dataframe tbody tr th:only-of-type {\n",
       "        vertical-align: middle;\n",
       "    }\n",
       "\n",
       "    .dataframe tbody tr th {\n",
       "        vertical-align: top;\n",
       "    }\n",
       "\n",
       "    .dataframe thead th {\n",
       "        text-align: right;\n",
       "    }\n",
       "</style>\n",
       "<table border=\"1\" class=\"dataframe\">\n",
       "  <thead>\n",
       "    <tr style=\"text-align: right;\">\n",
       "      <th></th>\n",
       "      <th>userId</th>\n",
       "      <th>movieId</th>\n",
       "      <th>rating</th>\n",
       "      <th>timestamp</th>\n",
       "    </tr>\n",
       "  </thead>\n",
       "  <tbody>\n",
       "    <tr>\n",
       "      <th>0</th>\n",
       "      <td>1</td>\n",
       "      <td>1</td>\n",
       "      <td>4.0</td>\n",
       "      <td>964982703</td>\n",
       "    </tr>\n",
       "    <tr>\n",
       "      <th>1</th>\n",
       "      <td>1</td>\n",
       "      <td>3</td>\n",
       "      <td>4.0</td>\n",
       "      <td>964981247</td>\n",
       "    </tr>\n",
       "    <tr>\n",
       "      <th>2</th>\n",
       "      <td>1</td>\n",
       "      <td>6</td>\n",
       "      <td>4.0</td>\n",
       "      <td>964982224</td>\n",
       "    </tr>\n",
       "    <tr>\n",
       "      <th>3</th>\n",
       "      <td>1</td>\n",
       "      <td>47</td>\n",
       "      <td>5.0</td>\n",
       "      <td>964983815</td>\n",
       "    </tr>\n",
       "    <tr>\n",
       "      <th>4</th>\n",
       "      <td>1</td>\n",
       "      <td>50</td>\n",
       "      <td>5.0</td>\n",
       "      <td>964982931</td>\n",
       "    </tr>\n",
       "  </tbody>\n",
       "</table>\n",
       "</div>"
      ],
      "text/plain": [
       "   userId  movieId  rating  timestamp\n",
       "0       1        1     4.0  964982703\n",
       "1       1        3     4.0  964981247\n",
       "2       1        6     4.0  964982224\n",
       "3       1       47     5.0  964983815\n",
       "4       1       50     5.0  964982931"
      ]
     },
     "execution_count": 7,
     "metadata": {},
     "output_type": "execute_result"
    }
   ],
   "source": [
    "df.head()"
   ]
  },
  {
   "cell_type": "code",
   "execution_count": 52,
   "id": "9ae8ed99-ae3e-431e-b08a-f37c31b23502",
   "metadata": {},
   "outputs": [
    {
     "name": "stdout",
     "output_type": "stream",
     "text": [
      "N° Users:  610\n",
      "N° Items:  9724\n"
     ]
    }
   ],
   "source": [
    "import numpy as np\n",
    "# Matriz de valoraciones\n",
    "n_users = df['userId'].unique().shape[0]\n",
    "\n",
    "ratings = np.zeros((n_users, 193609))\n",
    "print(\"N° Users: \", n_users)\n",
    "print(\"N° Items: \", n_items)"
   ]
  },
  {
   "cell_type": "code",
   "execution_count": 53,
   "id": "0e0268ce-772c-4199-8493-4e61d35212c5",
   "metadata": {},
   "outputs": [],
   "source": [
    "for row in df.itertuples():\n",
    "    ratings[row.userId-1, row.movieId-1] = row.rating"
   ]
  },
  {
   "cell_type": "code",
   "execution_count": 60,
   "id": "5fee1ce1-1083-432b-b5d8-9ca55b601df8",
   "metadata": {},
   "outputs": [
    {
     "name": "stdout",
     "output_type": "stream",
     "text": [
      "Coeficiente de sparseidad: 0.09%\n"
     ]
    }
   ],
   "source": [
    "sparsity = float(len(ratings.nonzero()[0]))\n",
    "sparsity /= ratings.shape[0] * ratings.shape[1]\n",
    "sparsity *= 100\n",
    "\n",
    "print(f\"Coeficiente de sparseidad: {sparsity:.2f}%\")"
   ]
  },
  {
   "cell_type": "code",
   "execution_count": 61,
   "id": "56844c57-2882-4bb0-a5fe-9aa143756459",
   "metadata": {},
   "outputs": [],
   "source": [
    "from sklearn.model_selection import train_test_split"
   ]
  },
  {
   "cell_type": "code",
   "execution_count": 62,
   "id": "0c493c92-1172-4094-a027-5ae409555f00",
   "metadata": {},
   "outputs": [],
   "source": [
    "ratings_train, ratings_test = train_test_split(ratings, test_size=.3, random_state=42)"
   ]
  },
  {
   "cell_type": "code",
   "execution_count": 65,
   "id": "7eb5c3cb-77d3-45a1-980e-5b37e5ec8f95",
   "metadata": {},
   "outputs": [],
   "source": [
    "# Matriz de similaridad entre los usuarios\n",
    "import sklearn\n",
    "\n",
    "sim_matrix = 1- sklearn.metrics.pairwise.cosine_distances(ratings_train)"
   ]
  },
  {
   "cell_type": "code",
   "execution_count": 67,
   "id": "73a61889-3f04-4348-a479-72632453ed2d",
   "metadata": {},
   "outputs": [],
   "source": [
    "user_predictions = sim_matrix.dot(ratings_train) / np.array([np.abs(sim_matrix).sum(axis=1)]).T"
   ]
  },
  {
   "cell_type": "code",
   "execution_count": 69,
   "id": "f4b208db-7715-4fa4-a41f-999f243b4d84",
   "metadata": {},
   "outputs": [],
   "source": [
    "from sklearn.metrics import mean_squared_error\n",
    "\n",
    "def get_mae(preds, actuals):\n",
    "    preds = preds[actuals.nonzero()].flatten()\n",
    "    actuals = actuals[actuals.nonzero()].flatten()\n",
    "    return mean_squared_error(preds, actuals)"
   ]
  },
  {
   "cell_type": "code",
   "execution_count": 70,
   "id": "129e2558-568f-4167-bcb4-80fb33c41003",
   "metadata": {},
   "outputs": [
    {
     "data": {
      "text/plain": [
       "10.552440281951363"
      ]
     },
     "execution_count": 70,
     "metadata": {},
     "output_type": "execute_result"
    }
   ],
   "source": [
    "get_mae(user_predictions, ratings_test)"
   ]
  },
  {
   "cell_type": "code",
   "execution_count": 80,
   "id": "b60ab8da-d736-429c-ab9a-087490047686",
   "metadata": {},
   "outputs": [
    {
     "data": {
      "text/plain": [
       "(427, 10)"
      ]
     },
     "execution_count": 80,
     "metadata": {},
     "output_type": "execute_result"
    }
   ],
   "source": [
    "# Filtro colaborativo basado en knn\n",
    "from sklearn.neighbors import NearestNeighbors\n",
    "\n",
    "k = 10\n",
    "neighbors = NearestNeighbors(n_neighbors=k, metric='cosine')\n",
    "neighbors.fit(ratings_train)\n",
    "top_k_distances, top_k_users = neighbors.kneighbors(ratings_train, return_distance=True)\n",
    "\n",
    "top_k_distances.shape"
   ]
  },
  {
   "cell_type": "code",
   "execution_count": 84,
   "id": "045bf5fd-024e-4f79-820c-9dbc3b7463d9",
   "metadata": {},
   "outputs": [
    {
     "ename": "MemoryError",
     "evalue": "Unable to allocate 6.16 GiB for an array with shape (427, 10, 193609) and data type float64",
     "output_type": "error",
     "traceback": [
      "\u001b[1;31m---------------------------------------------------------------------------\u001b[0m",
      "\u001b[1;31mMemoryError\u001b[0m                               Traceback (most recent call last)",
      "Cell \u001b[1;32mIn[84], line 4\u001b[0m\n\u001b[0;32m      1\u001b[0m users_predict_k \u001b[38;5;241m=\u001b[39m np\u001b[38;5;241m.\u001b[39mzeros(ratings\u001b[38;5;241m.\u001b[39mshape)\n\u001b[0;32m      3\u001b[0m \u001b[38;5;28;01mfor\u001b[39;00m i \u001b[38;5;129;01min\u001b[39;00m \u001b[38;5;28mrange\u001b[39m(ratings_train\u001b[38;5;241m.\u001b[39mshape[\u001b[38;5;241m0\u001b[39m]):\n\u001b[1;32m----> 4\u001b[0m     users_predict_k[i,:] \u001b[38;5;241m=\u001b[39m top_k_distances[i]\u001b[38;5;241m.\u001b[39mT\u001b[38;5;241m.\u001b[39mdot(\u001b[43mratings_train\u001b[49m\u001b[43m[\u001b[49m\u001b[43mtop_k_users\u001b[49m\u001b[43m]\u001b[49m[i]) \u001b[38;5;241m/\u001b[39m np\u001b[38;5;241m.\u001b[39marray([np\u001b[38;5;241m.\u001b[39mabs(top_k_distances[i]\u001b[38;5;241m.\u001b[39mT)\u001b[38;5;241m.\u001b[39msum(axis\u001b[38;5;241m=\u001b[39m\u001b[38;5;241m0\u001b[39m)])\u001b[38;5;241m.\u001b[39mT\n",
      "\u001b[1;31mMemoryError\u001b[0m: Unable to allocate 6.16 GiB for an array with shape (427, 10, 193609) and data type float64"
     ]
    }
   ],
   "source": [
    "users_predict_k = np.zeros(ratings.shape)\n",
    "\n",
    "for i in range(ratings_train.shape[0]):\n",
    "    users_predict_k[i,:] = top_k_distances[i].T.dot(ratings_train[top_k_users][i]) / np.array([np.abs(top_k_distances[i].T).sum(axis=0)]).T"
   ]
  },
  {
   "cell_type": "code",
   "execution_count": null,
   "id": "dc429a71-2a4b-460c-a593-6e36210e15f5",
   "metadata": {},
   "outputs": [],
   "source": []
  }
 ],
 "metadata": {
  "kernelspec": {
   "display_name": "Python 3 (ipykernel)",
   "language": "python",
   "name": "python3"
  },
  "language_info": {
   "codemirror_mode": {
    "name": "ipython",
    "version": 3
   },
   "file_extension": ".py",
   "mimetype": "text/x-python",
   "name": "python",
   "nbconvert_exporter": "python",
   "pygments_lexer": "ipython3",
   "version": "3.10.9"
  }
 },
 "nbformat": 4,
 "nbformat_minor": 5
}
